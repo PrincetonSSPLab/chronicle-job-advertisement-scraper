{
 "cells": [
  {
   "cell_type": "markdown",
   "id": "9f2394f1",
   "metadata": {},
   "source": [
    "## Data Validator\n",
    "Notebook that reads in old scraped job advertisement data and checks for missing information. If there is missing informtion, this notebook has the functionality to fill it in."
   ]
  }
 ],
 "metadata": {
  "kernelspec": {
   "display_name": "Python 3 (ipykernel)",
   "language": "python",
   "name": "python3"
  },
  "language_info": {
   "codemirror_mode": {
    "name": "ipython",
    "version": 3
   },
   "file_extension": ".py",
   "mimetype": "text/x-python",
   "name": "python",
   "nbconvert_exporter": "python",
   "pygments_lexer": "ipython3",
   "version": "3.9.12"
  }
 },
 "nbformat": 4,
 "nbformat_minor": 5
}
