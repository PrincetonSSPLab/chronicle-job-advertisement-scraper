{
 "cells": [
  {
   "cell_type": "markdown",
   "id": "9f2394f1",
   "metadata": {},
   "source": [
    "## Data Validator\n",
    "Notebook that reads in old scraped job advertisement data and checks for missing information.\n",
    "\n",
    "If there is missing informtion, this notebook has the functionality to fill it in."
   ]
  },
  {
   "cell_type": "code",
   "execution_count": null,
   "id": "da1d564e",
   "metadata": {},
   "outputs": [],
   "source": [
    "import os\n",
    "import pandas"
   ]
  }
 ],
 "metadata": {
  "kernelspec": {
   "display_name": "Python 3.9.12 ('base')",
   "language": "python",
   "name": "python3"
  },
  "language_info": {
   "codemirror_mode": {
    "name": "ipython",
    "version": 3
   },
   "file_extension": ".py",
   "mimetype": "text/x-python",
   "name": "python",
   "nbconvert_exporter": "python",
   "pygments_lexer": "ipython3",
   "version": "3.9.12"
  },
  "vscode": {
   "interpreter": {
    "hash": "58ed313190bb0b7e91dd2f9a464e3216ab686140ac15e04fa2e2836f55fda08a"
   }
  }
 },
 "nbformat": 4,
 "nbformat_minor": 5
}
