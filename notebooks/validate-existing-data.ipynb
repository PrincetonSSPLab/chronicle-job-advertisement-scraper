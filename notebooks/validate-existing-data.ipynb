{
 "cells": [
  {
   "cell_type": "markdown",
   "id": "9f2394f1",
   "metadata": {},
   "source": [
    "## Data Validator\n",
    "Notebook that reads in old scraped job advertisement data and checks for missing information.\n",
    "\n",
    "If there is missing informtion, this notebook has the functionality to fill it in."
   ]
  },
  {
   "cell_type": "code",
   "execution_count": 30,
   "id": "da1d564e",
   "metadata": {},
   "outputs": [],
   "source": [
    "import os\n",
    "import pandas as pd\n",
    "import requests\n",
    "from bs4 import BeautifulSoup\n",
    "from lxml import etree"
   ]
  },
  {
   "cell_type": "code",
   "execution_count": 31,
   "id": "060fa5d7",
   "metadata": {},
   "outputs": [],
   "source": [
    "data_file_path = r\"C:\\Users\\ethan_haque\\Desktop\\repos\\princeton-job-advertisement-scraper\\data\\2021-12-19-chronicles_of_higher_ed.csv\""
   ]
  },
  {
   "cell_type": "code",
   "execution_count": 32,
   "id": "7ab18750",
   "metadata": {},
   "outputs": [
    {
     "data": {
      "text/plain": [
       "array(['Job Title', 'Job URL', 'Diversity Job', 'Employer', 'Location',\n",
       "       'Salary', 'Date Posted', 'Description', 'Position Type 0.0',\n",
       "       'Position Type 0.1', 'Position Type 0.2', 'Position Type 0.3',\n",
       "       'Position Type 0.4', 'Position Type 0.5', 'Position Type 0.6',\n",
       "       'Position Type 0.7', 'Position Type 0.8', 'Position Type 0.9',\n",
       "       'Position Type 1.0'], dtype=object)"
      ]
     },
     "execution_count": 32,
     "metadata": {},
     "output_type": "execute_result"
    }
   ],
   "source": [
    "csv_data = pd.read_csv(data_file_path, index_col=0)\n",
    "csv_data.columns.values"
   ]
  },
  {
   "cell_type": "code",
   "execution_count": 33,
   "id": "8c767bbe",
   "metadata": {},
   "outputs": [],
   "source": [
    "def get_urls_missing_date_posted(df):\n",
    "    no_dates = df[df[\"Date Posted\"].isna()]\n",
    "    urls = no_dates.loc[:,\"Job URL\"]\n",
    "    return urls\n",
    "\n",
    "# get_urls_missing_date_posted(csv_data)"
   ]
  },
  {
   "cell_type": "code",
   "execution_count": 45,
   "metadata": {},
   "outputs": [
    {
     "name": "stdout",
     "output_type": "stream",
     "text": [
      "Aug 11, 2022\n"
     ]
    }
   ],
   "source": [
    "def get_date_posted(url):\n",
    "    request = requests.get(url, headers={'User-Agent': 'Mozilla/5.0'})\n",
    "    soup = BeautifulSoup(request.content, \"html.parser\")\n",
    "    dom = etree.HTML(str(soup))\n",
    "    date_xpath = '//*[@id=\"main\"]/div/div[3]/div[1]/div[1]/div[1]/div/div[1]/dl/dd[4]'\n",
    "    date_element = dom.xpath(date_xpath)\n",
    "    return date_element[0].text\n",
    "    \n",
    "get_date_posted(\"https://jobs.chronicle.com/job/37302598/assistant-professor-in-chemistry-open-area-/\")\n",
    "    "
   ]
  }
 ],
 "metadata": {
  "kernelspec": {
   "display_name": "Python 3.9.12 ('chronicle-job-advertisement-scraper')",
   "language": "python",
   "name": "python3"
  },
  "language_info": {
   "codemirror_mode": {
    "name": "ipython",
    "version": 3
   },
   "file_extension": ".py",
   "mimetype": "text/x-python",
   "name": "python",
   "nbconvert_exporter": "python",
   "pygments_lexer": "ipython3",
   "version": "3.9.12"
  },
  "vscode": {
   "interpreter": {
    "hash": "fe9400a8f71e4ab3492d7f702e0eb9b2ba483976ab373fc01b971917a25cfcfb"
   }
  }
 },
 "nbformat": 4,
 "nbformat_minor": 5
}
